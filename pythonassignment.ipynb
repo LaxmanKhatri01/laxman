{
 "cells": [
  {
   "cell_type": "code",
   "execution_count": 13,
   "metadata": {},
   "outputs": [
    {
     "name": "stdout",
     "output_type": "stream",
     "text": [
      "This is an even number.\n"
     ]
    }
   ],
   "source": [
    "#1.Write a program that asks the user to enter a number and checkswhether the number is even or odd.\n",
    "\n",
    "num = int(input(\"Enter a number: \"))\n",
    "mod = num % 2\n",
    "if mod > 0:\n",
    "    print(\"This is an odd number.\")\n",
    "else:\n",
    "    print(\"This is an even number.\")"
   ]
  },
  {
   "cell_type": "code",
   "execution_count": 18,
   "metadata": {},
   "outputs": [
    {
     "name": "stdout",
     "output_type": "stream",
     "text": [
      "It is a positive number\n"
     ]
    }
   ],
   "source": [
    "#2.Write a program that asks the user to enter a number and checkswhether it is positive, negative, or zero.\n",
    "\n",
    "\n",
    "num = float(input(\"Input a number: \"))\n",
    "\n",
    "\n",
    "if num > 0:\n",
    "   \n",
    "   print(\"It is a positive number\")\n",
    "\n",
    "elif num == 0:\n",
    "   \n",
    "   print(\"It is zero\")\n",
    "else:\n",
    "   print(\"It is a negative number\")\n"
   ]
  },
  {
   "cell_type": "code",
   "execution_count": 17,
   "metadata": {},
   "outputs": [
    {
     "name": "stdout",
     "output_type": "stream",
     "text": [
      "Eligible for Voting!\n"
     ]
    }
   ],
   "source": [
    "#3.Write a program that asks the user to enter their age and checksif they are eligible to vote (18 years or older).\n",
    "\n",
    "age = int(input(\"Enter age : \"))\n",
    "\n",
    "if age >= 18:\n",
    "    print(\"Eligible for Voting!\")\n",
    "else:\n",
    "    print(\"Not Eligible for Voting!\")\n"
   ]
  },
  {
   "cell_type": "code",
   "execution_count": 19,
   "metadata": {},
   "outputs": [
    {
     "name": "stdout",
     "output_type": "stream",
     "text": [
      "Input lengths of the triangle sides: \n",
      "Equilateral triangle\n"
     ]
    }
   ],
   "source": [
    "#4.Write a program that takes the lengths of three sides of atriangle as input and determines if the triangle is: Equilateral,Isosceles or Scalene.\n",
    "\n",
    "\n",
    "print(\"Input lengths of the triangle sides: \")\n",
    "\n",
    " \n",
    "x = int(input(\"x: \"))\n",
    "y = int(input(\"y: \"))\n",
    "z = int(input(\"z: \"))\n",
    "if x == y == z:\n",
    "    print(\"Equilateral triangle\")\n",
    "elif x == y or y == z or z == x:\n",
    "    print(\"Isosceles triangle\")\n",
    "else:\n",
    "    print(\"Scalene triangle\") "
   ]
  },
  {
   "cell_type": "code",
   "execution_count": 4,
   "metadata": {},
   "outputs": [
    {
     "name": "stdout",
     "output_type": "stream",
     "text": [
      "Your password doesnot match\n"
     ]
    }
   ],
   "source": [
    "#5.Write a program that asks the user to enter a password and checks if it matches a predefined password (e.g., \"Python123\").\n",
    "\n",
    "password=\"Python123\"\n",
    "user=input(\"Enter the password:\")\n",
    "if password==user:\n",
    "    print(\"Your password match\")\n",
    "else:\n",
    "    print(\"Your password doesnot match\")\n",
    "\n"
   ]
  },
  {
   "cell_type": "markdown",
   "metadata": {},
   "source": [
    "Section2.For Loops "
   ]
  },
  {
   "cell_type": "code",
   "execution_count": 5,
   "metadata": {},
   "outputs": [
    {
     "name": "stdout",
     "output_type": "stream",
     "text": [
      "18X1=18\n",
      "18X2=36\n",
      "18X3=54\n",
      "18X4=72\n",
      "18X5=90\n",
      "18X6=108\n",
      "18X7=126\n",
      "18X8=144\n",
      "18X9=162\n",
      "18X10=180\n"
     ]
    }
   ],
   "source": [
    "#6.Write a Python program to print the multiplication table of a given number using a for loop.\n",
    "num=int(input(\"Enter the table print number:\"))\n",
    "\n",
    "for i in range(1,10+1):\n",
    "    print(f\"{num}X{i}={num*i}\")"
   ]
  },
  {
   "cell_type": "code",
   "execution_count": 7,
   "metadata": {},
   "outputs": [
    {
     "name": "stdout",
     "output_type": "stream",
     "text": [
      "Iloveyou\n",
      "Number of vowels in the given string: 5\n"
     ]
    }
   ],
   "source": [
    "#7.Write a program to count and display the number of vowels in a given string.\n",
    "\n",
    "str=input(\"Enter the string:\")\n",
    "vowels=\"aeiouAEIOU\"\n",
    "count=0\n",
    "for char in str:\n",
    "    if char in vowels:\n",
    "        count+=1\n",
    "print(str)\n",
    "print(f\"Number of vowels in the given string: {count}\")"
   ]
  },
  {
   "cell_type": "code",
   "execution_count": 8,
   "metadata": {},
   "outputs": [
    {
     "name": "stdout",
     "output_type": "stream",
     "text": [
      "Sum of even number in list: 20\n"
     ]
    }
   ],
   "source": [
    "#8.Sum of Even Numbers Create a program to find the sum of all even numbers in a list using a for loop.\n",
    "\n",
    "list=[1,2,3,4,5,6,7,8,9]\n",
    "even=0\n",
    "for i in list:\n",
    "    if i%2==0:\n",
    "    \n",
    "        even+=i\n",
    "print(\"Sum of even number in list:\",even)"
   ]
  },
  {
   "cell_type": "code",
   "execution_count": 10,
   "metadata": {},
   "outputs": [
    {
     "name": "stdout",
     "output_type": "stream",
     "text": [
      "Largest number:69\n",
      "Smallest number:1\n"
     ]
    }
   ],
   "source": [
    "#9.Create a program to find the largest and smallest numbers in a list using a for loop.\n",
    "\n",
    "list=[10,2,20,40,1,24,69]\n",
    "largest=list[0]\n",
    "smallest=list[0]\n",
    "for i in list:\n",
    "    if i >largest:\n",
    "        largest=i\n",
    "    elif i< smallest:\n",
    "        smallest=i\n",
    "print(f\"Largest number:{largest}\")\n",
    "print(f\"Smallest number:{smallest}\")"
   ]
  },
  {
   "cell_type": "code",
   "execution_count": 14,
   "metadata": {},
   "outputs": [
    {
     "name": "stdout",
     "output_type": "stream",
     "text": [
      "The total sum of digits is: 22\n"
     ]
    }
   ],
   "source": [
    "#10.Write a program to calculate the sum of digits of a given number using a for loop.\n",
    "\n",
    "n=int(input(\"Enter a number:\"))\n",
    "tot=0\n",
    "while(n>0):\n",
    "    dig=n%10\n",
    "    tot=tot+dig\n",
    "    n=n//10\n",
    "print(\"The total sum of digits is:\",tot)"
   ]
  },
  {
   "cell_type": "code",
   "execution_count": 15,
   "metadata": {},
   "outputs": [
    {
     "name": "stdout",
     "output_type": "stream",
     "text": [
      "namxal\n"
     ]
    }
   ],
   "source": [
    "#11.Write a program to reverse a given string using a for loop.\n",
    "\n",
    "inp=input(\"Enter the string:\")\n",
    "rev=\"\"\n",
    "for i in inp:\n",
    "    rev=i+rev\n",
    "    \n",
    "print(rev)"
   ]
  },
  {
   "cell_type": "markdown",
   "metadata": {},
   "source": [
    "Section 3: Functions"
   ]
  },
  {
   "cell_type": "code",
   "execution_count": 16,
   "metadata": {},
   "outputs": [
    {
     "name": "stdout",
     "output_type": "stream",
     "text": [
      "Factorial number: 24\n"
     ]
    }
   ],
   "source": [
    "#1.Factorial Function: Write a function factorial(n) that returns the factorial of a number using a for loop.\n",
    "\n",
    "def factor_num(num):\n",
    "    factor=1\n",
    "    for i in range(1,num+1):\n",
    "        factor*=i\n",
    "\n",
    "    print(\"Factorial number:\",factor)\n",
    "\n",
    "num=int(input(\"Enter the factorial number:\"))\n",
    "factor_num(num)\n"
   ]
  },
  {
   "cell_type": "code",
   "execution_count": 17,
   "metadata": {},
   "outputs": [
    {
     "data": {
      "text/plain": [
       "True"
      ]
     },
     "execution_count": 17,
     "metadata": {},
     "output_type": "execute_result"
    }
   ],
   "source": [
    "#2.Prime Check Function: Create a function is_prime(n) to checkwhether a number is prime.\n",
    "\n",
    "def prime(num):\n",
    "    if num <= 1:\n",
    "        return False\n",
    "    for i in range(2, int(num**0.5) + 1):\n",
    "        if num % i == 0:\n",
    "            return False\n",
    "        return True\n",
    "    \n",
    "num=int(input(\"Enter the number:\"))\n",
    "prime(num)"
   ]
  },
  {
   "cell_type": "code",
   "execution_count": 19,
   "metadata": {},
   "outputs": [
    {
     "name": "stdout",
     "output_type": "stream",
     "text": [
      "100\n"
     ]
    }
   ],
   "source": [
    "#3.List:Write a function find_max(lst) to find and return the maximum value in a list.\n",
    "\n",
    "def func():\n",
    "    list=[1,2,35,77,100]\n",
    "    max=list[0]\n",
    "    for i in list:\n",
    "        if i>max:\n",
    "            max=i\n",
    "    print(max)\n",
    "\n",
    "func()"
   ]
  },
  {
   "cell_type": "code",
   "execution_count": 20,
   "metadata": {},
   "outputs": [
    {
     "name": "stdout",
     "output_type": "stream",
     "text": [
      "True\n"
     ]
    }
   ],
   "source": [
    "#4.Write a function palindrome_check(string) that returns True ifthe given string is a palindrome, otherwise False.\n",
    "\n",
    "def palindrome_check(string):\n",
    "    return string == string[::-1]\n",
    "\n",
    "input_string = \"radar\"\n",
    "print(palindrome_check(input_string))  "
   ]
  },
  {
   "cell_type": "code",
   "execution_count": 21,
   "metadata": {},
   "outputs": [
    {
     "name": "stdout",
     "output_type": "stream",
     "text": [
      "55\n"
     ]
    }
   ],
   "source": [
    "#5.Write a function sum_of_squares(n) that returns the sum of squares of the first n natural numbers.\n",
    " \n",
    "def sum_of_square(n):\n",
    "    sum=0\n",
    "    for i in range(1,n+1):\n",
    "        sum+=i**2\n",
    "    \n",
    "    print(sum)\n",
    "\n",
    "sum_of_square(5)"
   ]
  },
  {
   "cell_type": "code",
   "execution_count": 23,
   "metadata": {},
   "outputs": [
    {
     "name": "stdout",
     "output_type": "stream",
     "text": [
      "5\n"
     ]
    }
   ],
   "source": [
    "#6.Write a function sum_of_squares(n) that returns the sum of squares of the first n natural numbers.\n",
    "\n",
    "def sum_of_square(n):\n",
    "    sum=0\n",
    "    for i in range(1,n+1):\n",
    "        sum+=i**2\n",
    "    return sum\n",
    "n=int(input(\"Enter the square number:\"))\n",
    "print(sum_of_square(n))"
   ]
  },
  {
   "cell_type": "markdown",
   "metadata": {},
   "source": [
    "Section 4: Classes\n"
   ]
  },
  {
   "cell_type": "code",
   "execution_count": 24,
   "metadata": {},
   "outputs": [
    {
     "name": "stdout",
     "output_type": "stream",
     "text": [
      "Area of Rectangle 20\n",
      "None\n",
      "perimeter of Rectangle: 30\n",
      "None\n"
     ]
    }
   ],
   "source": [
    "#1.Rectangle Class:Define a class Rectangle with: ○ Two attributes: length and width. ○ A method area() to calculate the area. ○ A method perimeter() to calculate the perimeter.\n",
    "\n",
    "class rectangle:\n",
    "    def area_rect(self,length,width):\n",
    "        self.length=length\n",
    "        self.width=width\n",
    "        area=self.length*self.width\n",
    "        print(\"Area of Rectangle\",area)\n",
    "    def perimeter_rect(self,length,width):\n",
    "        self.length=length\n",
    "        self.width=width\n",
    "        perimeter=2*(self.length+self.width)\n",
    "        print(\"perimeter of Rectangle:\",perimeter)\n",
    "        \n",
    "cls=rectangle()\n",
    "print(cls.area_rect(4,5))\n",
    "print(cls.perimeter_rect(5,10))\n"
   ]
  },
  {
   "cell_type": "code",
   "execution_count": 29,
   "metadata": {},
   "outputs": [
    {
     "name": "stdout",
     "output_type": "stream",
     "text": [
      "Student's Name: Laxman\n",
      "Student's Roll No: 12\n",
      "Marks 30\n"
     ]
    },
    {
     "data": {
      "text/plain": [
       "False"
      ]
     },
     "execution_count": 29,
     "metadata": {},
     "output_type": "execute_result"
    }
   ],
   "source": [
    "#2.Student Class: Create a class Student with:\n",
    "#Attributes: name, roll_number, and marks.....# A method display_details() to print the student's details.....\n",
    "# A method is_passed() that returns True if marks ≥ 40, else False.\n",
    "\n",
    "class student:\n",
    "    def display_details(self,Name,roll_num,marks):\n",
    "        self.name=Name\n",
    "        self.roll_num=roll_num\n",
    "        self.marks=marks\n",
    "        print(\"Student's Name:\",self.name)\n",
    "        print(\"Student's Roll No:\",self.roll_num)\n",
    "        print(\"Marks\",self.marks)\n",
    "    def is_passed(self):\n",
    "        if self.marks>=40:\n",
    "            return True\n",
    "        else:\n",
    "            return False\n",
    "\n",
    "stud=student()\n",
    "stud.display_details(\"Laxman\",12,30)\n",
    "stud.is_passed()"
   ]
  },
  {
   "cell_type": "code",
   "execution_count": 30,
   "metadata": {},
   "outputs": [
    {
     "name": "stdout",
     "output_type": "stream",
     "text": [
      "Area of circle: 3632.152\n",
      "Circumference of circle: 188.51999999999998\n"
     ]
    }
   ],
   "source": [
    "#3.Define a class Circle with: ● Attribute: radius. ● Methods: area() to calculate the area, circumference() to calculate the circumference.\n",
    "\n",
    "class Circle:\n",
    "    def area(self):\n",
    "        radius=int(input(\"Enter the Area of circle:\"))\n",
    "        self.pi=3.142\n",
    "        rad_area = self.pi * radius**2\n",
    "        print(\"Area of circle:\",rad_area)\n",
    "\n",
    "    def circumference(self):\n",
    "        radius=int(input(\"Enter the Circumference of circle:\"))\n",
    "        cir_area=2*(self.pi*radius)\n",
    "\n",
    "        print(\"Circumference of circle:\",cir_area)\n",
    "cir=Circle()\n",
    "cir.area()\n",
    "cir.circumference()"
   ]
  },
  {
   "cell_type": "code",
   "execution_count": 34,
   "metadata": {},
   "outputs": [
    {
     "name": "stdout",
     "output_type": "stream",
     "text": [
      "previous Balance 10000\n",
      "Deposit amount 100000\n",
      "previous balance: 110000\n",
      "Withdraw amount 9000\n",
      "current balance: 101000\n"
     ]
    }
   ],
   "source": [
    "#4. Create a class BankAccount with: ● Attributes: account_number, account_holder, balance. ● Methods: ○ deposit(amount) to add money to the account. ○ withdraw(amount) to subtract money (if sufficient balance is available). ○ display_balance() to print the current balance.\n",
    "\n",
    "class BankAccount:\n",
    "    def __init__(self,account_num,account_holder,balance):\n",
    "        self.account_num=account_num\n",
    "        self.account_holder=account_holder\n",
    "        self.balance=balance\n",
    "    \n",
    "    def deposit(self,amount):\n",
    "        print(\"previous Balance\",self.balance)\n",
    "        self.balance+=amount\n",
    "        print(\"Deposit amount\",amount)\n",
    "        \n",
    "        \n",
    "    def withdraw(self,amount):\n",
    "        print(\"previous balance:\",self.balance)\n",
    "        if amount<=self.balance:\n",
    "            self.balance-=amount\n",
    "            print(\"Withdraw amount\",amount)\n",
    "        else:\n",
    "            print(\"Insufficient balance\")\n",
    "       \n",
    "\n",
    "    def display_balance(self):\n",
    "        print(\"current balance:\",self.balance)\n",
    "\n",
    "\n",
    "\n",
    "acc=BankAccount(123456780,\"Aman\",10000)\n",
    "dep=int(input(\"Enter the deposit amount:\"))\n",
    "with_drw=int(input(\"Enter the withdraw amount:\"))\n",
    "acc.deposit(dep)\n",
    "acc.withdraw(with_drw)\n",
    "acc.display_balance()"
   ]
  },
  {
   "cell_type": "code",
   "execution_count": 39,
   "metadata": {},
   "outputs": [
    {
     "name": "stdout",
     "output_type": "stream",
     "text": [
      "Title name: FORCABARCA\n",
      "Author: Peter Drury \n",
      "Book price after discount: 9000.0\n"
     ]
    }
   ],
   "source": [
    "#5.A class Book with: ● Attributes: title, author, price. ● Methods: ○ apply_discount(discount) to reduce the price by a given percentage. ○ display_details() to print the book details.\n",
    "\n",
    "class Book:\n",
    "    def __init__(self,title,author,price):\n",
    "        self.title=title\n",
    "        self.author=author\n",
    "        self.price=price\n",
    "\n",
    "    def apply_discount(self, discount):\n",
    "        self.discount=discount\n",
    "        self.price=self.price-self.discount/100*self.price\n",
    "    \n",
    "    def display(self):\n",
    "        print(\"Title name:\",self.title)\n",
    "        print(\"Author:\",self.author)\n",
    "        print(\"Book price after discount:\",self.price)\n",
    "\n",
    "bk=Book(\"FORCABARCA\",\"Peter Drury \",10000)\n",
    "\n",
    "bk.apply_discount(10)\n",
    "bk.display()"
   ]
  },
  {
   "cell_type": "code",
   "execution_count": 43,
   "metadata": {},
   "outputs": [
    {
     "name": "stdout",
     "output_type": "stream",
     "text": [
      "Add two number: 11\n",
      "Subtract two number: 6\n",
      "Multiply two number: 81\n",
      "Divide two number: 3.0\n",
      "Cannot divide by zero\n"
     ]
    }
   ],
   "source": [
    "#6.Create a class Calculator with: ○ A method add(a, b) to add two numbers. ○ A method subtract(a, b) to subtract two numbers. ○ A method multiply(a, b) to multiply two numbers. ○ A method divide(a, b) to divide two numbers (handle division by zero gracefully).\n",
    "\n",
    "class calculator:\n",
    "    def Add(self, a,b):\n",
    "        print(\"Add two number:\",a+b)\n",
    "    def Subtract(self,a,b):\n",
    "        print(\"Subtract two number:\",a-b)\n",
    "    def Multiply(self ,a,b):\n",
    "        print(\"Multiply two number:\",a*b)\n",
    "\n",
    "    def Divide(self,a,b):\n",
    "        print(\"Divide two number:\",a/b)\n",
    "\n",
    "\n",
    "cal=calculator()\n",
    "cal.Add(5,6)\n",
    "cal.Subtract(10,4)\n",
    "cal.Multiply(9,9)\n",
    "cal.Divide(12,4)\n",
    "try:\n",
    "    cal.Divide(12, 0)\n",
    "except ZeroDivisionError:\n",
    "    print(\"Cannot divide by zero\")"
   ]
  },
  {
   "cell_type": "code",
   "execution_count": 47,
   "metadata": {},
   "outputs": [
    {
     "ename": "TypeError",
     "evalue": "object.__init__() takes exactly one argument (the instance to initialize)",
     "output_type": "error",
     "traceback": [
      "\u001b[1;31m---------------------------------------------------------------------------\u001b[0m",
      "\u001b[1;31mTypeError\u001b[0m                                 Traceback (most recent call last)",
      "Cell \u001b[1;32mIn[47], line 25\u001b[0m\n\u001b[0;32m     22\u001b[0m     \u001b[38;5;28;01mdef\u001b[39;00m \u001b[38;5;21mintroduce\u001b[39m (\u001b[38;5;28mself\u001b[39m):\n\u001b[0;32m     23\u001b[0m         printf(\u001b[38;5;124m\"\u001b[39m\u001b[38;5;124mHello, my name is \u001b[39m\u001b[38;5;132;01m{self.name}\u001b[39;00m\u001b[38;5;124m, I am \u001b[39m\u001b[38;5;132;01m{self.age}\u001b[39;00m\u001b[38;5;124m years old, I am a \u001b[39m\u001b[38;5;132;01m{self.gender}\u001b[39;00m\u001b[38;5;124m, and I work as a \u001b[39m\u001b[38;5;132;01m{self.job_title}\u001b[39;00m\u001b[38;5;124m.\u001b[39m\u001b[38;5;124m\"\u001b[39m)\n\u001b[1;32m---> 25\u001b[0m emp \u001b[38;5;241m=\u001b[39m \u001b[43memployee\u001b[49m\u001b[43m(\u001b[49m\u001b[38;5;124;43m\"\u001b[39;49m\u001b[38;5;124;43mLaxman\u001b[39;49m\u001b[38;5;124;43m\"\u001b[39;49m\u001b[43m,\u001b[49m\u001b[43m \u001b[49m\u001b[38;5;241;43m20\u001b[39;49m\u001b[43m,\u001b[49m\u001b[43m \u001b[49m\u001b[38;5;124;43m\"\u001b[39;49m\u001b[38;5;124;43mmale\u001b[39;49m\u001b[38;5;124;43m\"\u001b[39;49m\u001b[43m,\u001b[49m\u001b[38;5;124;43m\"\u001b[39;49m\u001b[38;5;124;43mSupervisor\u001b[39;49m\u001b[38;5;124;43m\"\u001b[39;49m\u001b[43m)\u001b[49m\n\u001b[0;32m     26\u001b[0m emp\u001b[38;5;241m.\u001b[39mintroduce()\n",
      "Cell \u001b[1;32mIn[47], line 19\u001b[0m, in \u001b[0;36memployee.__init__\u001b[1;34m(self, name, age, gender, job_title)\u001b[0m\n\u001b[0;32m     18\u001b[0m \u001b[38;5;28;01mdef\u001b[39;00m \u001b[38;5;21m__init__\u001b[39m(\u001b[38;5;28mself\u001b[39m, name, age, gender, job_title):\n\u001b[1;32m---> 19\u001b[0m     \u001b[38;5;28;43msuper\u001b[39;49m\u001b[43m(\u001b[49m\u001b[43m)\u001b[49m\u001b[38;5;241;43m.\u001b[39;49m\u001b[38;5;21;43m__init__\u001b[39;49m\u001b[43m(\u001b[49m\u001b[43mname\u001b[49m\u001b[43m,\u001b[49m\u001b[43m \u001b[49m\u001b[43mage\u001b[49m\u001b[43m,\u001b[49m\u001b[43m \u001b[49m\u001b[43mgender\u001b[49m\u001b[43m)\u001b[49m\n\u001b[0;32m     20\u001b[0m     \u001b[38;5;28mself\u001b[39m\u001b[38;5;241m.\u001b[39mjob_title \u001b[38;5;241m=\u001b[39m job_title\n",
      "\u001b[1;31mTypeError\u001b[0m: object.__init__() takes exactly one argument (the instance to initialize)"
     ]
    }
   ],
   "source": [
    "#7.Write a class Person with:\n",
    "# Attributes: name, age, gender.\n",
    "# Method introduce() to print a message like: \"Hello, my name is [name], I am [age] years old, and I am a [gender].\"\n",
    "# Create a subclass Employee that adds:\n",
    "# Attribute: job_title.\n",
    "# Override introduce() to include the job title.\n",
    "\n",
    "class person:\n",
    "    def _init__(self,name,age,gender):\n",
    "        self.name=name\n",
    "        self.age=age\n",
    "        self.gender=gender\n",
    "    def introduce(self):\n",
    "        printf(\"Hello, my name is {self.name},I am {self.age}years old, and I am a {self.gender}\")\n",
    "\n",
    "class employee(person):\n",
    "\n",
    "    def __init__(self, name, age, gender, job_title):\n",
    "        super().__init__(name, age, gender)\n",
    "        self.job_title = job_title\n",
    "\n",
    "    def introduce (self):\n",
    "        printf(\"Hello, my name is {self.name}, I am {self.age} years old, I am a {self.gender}, and I work as a {self.job_title}.\")\n",
    "\n",
    "emp = employee(\"Laxman\", 20, \"male\",\"Supervisor\")\n",
    "emp.introduce()\n"
   ]
  },
  {
   "cell_type": "markdown",
   "metadata": {},
   "source": [
    "Section 5: File Handling"
   ]
  },
  {
   "cell_type": "code",
   "execution_count": 63,
   "metadata": {},
   "outputs": [
    {
     "ename": "IndentationError",
     "evalue": "expected an indented block after 'with' statement on line 6 (360441797.py, line 7)",
     "output_type": "error",
     "traceback": [
      "\u001b[1;36m  Cell \u001b[1;32mIn[63], line 7\u001b[1;36m\u001b[0m\n\u001b[1;33m    for i in range(1,11 ):\u001b[0m\n\u001b[1;37m    ^\u001b[0m\n\u001b[1;31mIndentationError\u001b[0m\u001b[1;31m:\u001b[0m expected an indented block after 'with' statement on line 6\n"
     ]
    }
   ],
   "source": [
    "#1. File Creation and Writing: Write a Python script to:\n",
    "#Create a file named data.txt.\n",
    "#Write the numbers from 1 to 10 (each on a new line) to the file.\n",
    "#Read the file and print its contents.\n",
    "\n",
    "with open (\"data.txt\",\"w\") as f:\n",
    "for i in range(1,11 ):\n",
    "f.write (str(i) + \"/n\")\n",
    "with open(\"data.txt\", \"r\") as f:\n",
    "contents= f.read()\n",
    "print(contents) \n"
   ]
  },
  {
   "cell_type": "code",
   "execution_count": 64,
   "metadata": {},
   "outputs": [
    {
     "ename": "FileNotFoundError",
     "evalue": "[Errno 2] No such file or directory: 'sample.txt'",
     "output_type": "error",
     "traceback": [
      "\u001b[1;31m---------------------------------------------------------------------------\u001b[0m",
      "\u001b[1;31mFileNotFoundError\u001b[0m                         Traceback (most recent call last)",
      "Cell \u001b[1;32mIn[64], line 4\u001b[0m\n\u001b[0;32m      1\u001b[0m \u001b[38;5;66;03m#2.Word Count in File: Write a program that reads a file named sample.txt, counts the number of words in it, and prints the result.\u001b[39;00m\n\u001b[1;32m----> 4\u001b[0m \u001b[38;5;28;01mwith\u001b[39;00m \u001b[38;5;28;43mopen\u001b[39;49m\u001b[43m(\u001b[49m\u001b[38;5;124;43m\"\u001b[39;49m\u001b[38;5;124;43msample.txt\u001b[39;49m\u001b[38;5;124;43m\"\u001b[39;49m\u001b[43m,\u001b[49m\u001b[38;5;124;43m\"\u001b[39;49m\u001b[38;5;124;43mr\u001b[39;49m\u001b[38;5;124;43m\"\u001b[39;49m\u001b[43m)\u001b[49m \u001b[38;5;28;01mas\u001b[39;00m f:\n\u001b[0;32m      5\u001b[0m     result\u001b[38;5;241m=\u001b[39mf\u001b[38;5;241m.\u001b[39mread()\n\u001b[0;32m      6\u001b[0m     \u001b[38;5;28mprint\u001b[39m(result)\n",
      "File \u001b[1;32m~\\AppData\\Roaming\\Python\\Python313\\site-packages\\IPython\\core\\interactiveshell.py:324\u001b[0m, in \u001b[0;36m_modified_open\u001b[1;34m(file, *args, **kwargs)\u001b[0m\n\u001b[0;32m    317\u001b[0m \u001b[38;5;28;01mif\u001b[39;00m file \u001b[38;5;129;01min\u001b[39;00m {\u001b[38;5;241m0\u001b[39m, \u001b[38;5;241m1\u001b[39m, \u001b[38;5;241m2\u001b[39m}:\n\u001b[0;32m    318\u001b[0m     \u001b[38;5;28;01mraise\u001b[39;00m \u001b[38;5;167;01mValueError\u001b[39;00m(\n\u001b[0;32m    319\u001b[0m         \u001b[38;5;124mf\u001b[39m\u001b[38;5;124m\"\u001b[39m\u001b[38;5;124mIPython won\u001b[39m\u001b[38;5;124m'\u001b[39m\u001b[38;5;124mt let you open fd=\u001b[39m\u001b[38;5;132;01m{\u001b[39;00mfile\u001b[38;5;132;01m}\u001b[39;00m\u001b[38;5;124m by default \u001b[39m\u001b[38;5;124m\"\u001b[39m\n\u001b[0;32m    320\u001b[0m         \u001b[38;5;124m\"\u001b[39m\u001b[38;5;124mas it is likely to crash IPython. If you know what you are doing, \u001b[39m\u001b[38;5;124m\"\u001b[39m\n\u001b[0;32m    321\u001b[0m         \u001b[38;5;124m\"\u001b[39m\u001b[38;5;124myou can use builtins\u001b[39m\u001b[38;5;124m'\u001b[39m\u001b[38;5;124m open.\u001b[39m\u001b[38;5;124m\"\u001b[39m\n\u001b[0;32m    322\u001b[0m     )\n\u001b[1;32m--> 324\u001b[0m \u001b[38;5;28;01mreturn\u001b[39;00m \u001b[43mio_open\u001b[49m\u001b[43m(\u001b[49m\u001b[43mfile\u001b[49m\u001b[43m,\u001b[49m\u001b[43m \u001b[49m\u001b[38;5;241;43m*\u001b[39;49m\u001b[43margs\u001b[49m\u001b[43m,\u001b[49m\u001b[43m \u001b[49m\u001b[38;5;241;43m*\u001b[39;49m\u001b[38;5;241;43m*\u001b[39;49m\u001b[43mkwargs\u001b[49m\u001b[43m)\u001b[49m\n",
      "\u001b[1;31mFileNotFoundError\u001b[0m: [Errno 2] No such file or directory: 'sample.txt'"
     ]
    }
   ],
   "source": [
    "#2.Word Count in File: Write a program that reads a file named sample.txt, counts the number of words in it, and prints the result.\n",
    "\n",
    "\n",
    "with open(\"sample.txt\",\"r\") as f:\n",
    "    result=f.read()\n",
    "    print(result)\n",
    "    word_count = len(result.split())\n",
    "    print(f\"Number of words in the file: {word_count}\")"
   ]
  },
  {
   "cell_type": "markdown",
   "metadata": {},
   "source": [
    "Section 6: Error Handling"
   ]
  },
  {
   "cell_type": "code",
   "execution_count": 67,
   "metadata": {},
   "outputs": [
    {
     "name": "stdout",
     "output_type": "stream",
     "text": [
      "50.0\n"
     ]
    }
   ],
   "source": [
    "#1.Division with Error Handling: Write a program that takes two numbers as input and divides the first number by the second. ○ Use try and except to handle the division by zero error.\n",
    "\n",
    "a=int(input(\"Enter the first number:\"))\n",
    "b=int(input(\"Enter the second number:\"))\n",
    "\n",
    "try:\n",
    "    divide = a / b\n",
    "    print(divide)\n",
    "except ZeroDivisionError:\n",
    "    \n",
    "    print(\"Cannot divide by zero\")"
   ]
  },
  {
   "cell_type": "code",
   "execution_count": 70,
   "metadata": {},
   "outputs": [
    {
     "name": "stdout",
     "output_type": "stream",
     "text": [
      "69\n",
      "invalid input\n"
     ]
    }
   ],
   "source": [
    "#2.Integer Input Validation: Create a program that asks the user to input an integer.\n",
    "#Use try, except, and else to handle invalid input.\n",
    "\n",
    "try:\n",
    "    user=int(input(\"Enter the integer:\"))\n",
    "    print(user)\n",
    "except ValueError:\n",
    "    print(\"Invalid input, please enter a integer\")\n",
    "else:\n",
    "    print(\"invalid input\")"
   ]
  },
  {
   "cell_type": "code",
   "execution_count": 69,
   "metadata": {},
   "outputs": [
    {
     "name": "stdout",
     "output_type": "stream",
     "text": [
      "The file 'unknown.txt' was not found.\n"
     ]
    }
   ],
   "source": [
    "#3.File Not Found Error Handling: Write a script that: ○ Opens a file named unknown.txt. ○ Handles the FileNotFoundError gracefully and prints an appropriate message.\n",
    "\n",
    "try:\n",
    "    with open(\"unknown.txt\", \"r\") as file:\n",
    "        content = file.read()\n",
    "        print(content)\n",
    "except FileNotFoundError:\n",
    "    print(\"The file 'unknown.txt' was not found.\")"
   ]
  },
  {
   "cell_type": "code",
   "execution_count": null,
   "metadata": {},
   "outputs": [],
   "source": []
  }
 ],
 "metadata": {
  "kernelspec": {
   "display_name": "Python 3",
   "language": "python",
   "name": "python3"
  },
  "language_info": {
   "codemirror_mode": {
    "name": "ipython",
    "version": 3
   },
   "file_extension": ".py",
   "mimetype": "text/x-python",
   "name": "python",
   "nbconvert_exporter": "python",
   "pygments_lexer": "ipython3",
   "version": "3.13.1"
  }
 },
 "nbformat": 4,
 "nbformat_minor": 2
}
